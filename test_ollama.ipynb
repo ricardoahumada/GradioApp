{
 "cells": [
  {
   "cell_type": "markdown",
   "metadata": {},
   "source": [
    "## Ollama client"
   ]
  },
  {
   "cell_type": "code",
   "execution_count": 4,
   "metadata": {},
   "outputs": [],
   "source": [
    "# ! pip install ollama"
   ]
  },
  {
   "cell_type": "code",
   "execution_count": 1,
   "metadata": {},
   "outputs": [],
   "source": [
    "import ollama"
   ]
  },
  {
   "cell_type": "code",
   "execution_count": 2,
   "metadata": {},
   "outputs": [
    {
     "name": "stdout",
     "output_type": "stream",
     "text": [
      "<think>\n",
      "First, I identify the two numbers involved in the subtraction: 7 and 5.\n",
      "\n",
      "Next, I determine which number to subtract from the other. Since the problem states \"7 minus 5,\" it means I will subtract 5 from 7.\n",
      "\n",
      "I then perform the subtraction by counting up from 5 to reach 7. This involves adding 1 five times.\n",
      "\n",
      "Finally, after counting each step, I arrive at the result of 2.\n",
      "</think>\n",
      "\n",
      "**Solution:**\n",
      "\n",
      "To solve \\(7 - 5\\), follow these simple steps:\n",
      "\n",
      "1. **Start with the first number:**  \n",
      "   \\[\n",
      "   7\n",
      "   \\]\n",
      "\n",
      "2. **Subtract the second number from it:**  \n",
      "   \\[\n",
      "   7 - 5 = 2\n",
      "   \\]\n",
      "\n",
      "So,  \n",
      "\\[\n",
      "\\boxed{2}\n",
      "\\]\n"
     ]
    }
   ],
   "source": [
    "from ollama import Client\n",
    "oclient = Client(\n",
    "  host='http://192.168.1.34:11434',\n",
    "  headers={'x-some-header': 'some-value'}\n",
    ")\n",
    "\n",
    "response = oclient.chat(\n",
    "    model=\"deepseek-r1:1.5b\",\n",
    "    messages=[\n",
    "        {\"role\": \"user\", \"content\": \"How much is 7 - 5\"},\n",
    "    ],\n",
    ")\n",
    "print(response[\"message\"][\"content\"])"
   ]
  }
 ],
 "metadata": {
  "kernelspec": {
   "display_name": "venv",
   "language": "python",
   "name": "python3"
  },
  "language_info": {
   "codemirror_mode": {
    "name": "ipython",
    "version": 3
   },
   "file_extension": ".py",
   "mimetype": "text/x-python",
   "name": "python",
   "nbconvert_exporter": "python",
   "pygments_lexer": "ipython3",
   "version": "3.12.4"
  }
 },
 "nbformat": 4,
 "nbformat_minor": 2
}
