{
 "cells": [
  {
   "cell_type": "markdown",
   "metadata": {},
   "source": [
    "## Ollama client"
   ]
  },
  {
   "cell_type": "code",
   "execution_count": 2,
   "metadata": {},
   "outputs": [],
   "source": [
    "# ! pip install ollama"
   ]
  },
  {
   "cell_type": "code",
   "execution_count": 3,
   "metadata": {},
   "outputs": [],
   "source": [
    "import ollama"
   ]
  },
  {
   "cell_type": "code",
   "execution_count": 5,
   "metadata": {},
   "outputs": [
    {
     "name": "stdout",
     "output_type": "stream",
     "text": [
      "<think>\n",
      "First, I need to identify the two numbers in the expression: 7 and 4.\n",
      "\n",
      "Next, I'll perform the subtraction by starting with the first number, 7, and then subtracting the second number, 4 from it.\n",
      "\n",
      "After calculating the result of 7 minus 4, I can arrive at the final answer.\n",
      "</think>\n",
      "\n",
      "To solve the expression \\(7 - 4\\), follow these simple steps:\n",
      "\n",
      "1. **Identify the numbers:**\n",
      "   - Minuend (the first number): \\(7\\)\n",
      "   - Subtrahend (the second number to subtract from the minuend): \\(4\\)\n",
      "\n",
      "2. **Subtract the subtrahend from the minuend:**\n",
      "   \n",
      "   \\[\n",
      "   7 - 4 = 3\n",
      "   \\]\n",
      "\n",
      "3. **Final Answer:**\n",
      "   \n",
      "   \\[\n",
      "   \\boxed{3}\n",
      "   \\]\n"
     ]
    }
   ],
   "source": [
    "from ollama import Client\n",
    "oclient = Client(\n",
    "  # host='http://192.168.1.34:11434',\n",
    "  host='http://localhost:11434',\n",
    "  headers={'x-some-header': 'some-value'}\n",
    ")\n",
    "\n",
    "response = oclient.chat(\n",
    "    model=\"deepseek-r1:1.5b\",\n",
    "    messages=[\n",
    "        {\"role\": \"user\", \"content\": \"How much is 7 - 4\"},\n",
    "    ],\n",
    ")\n",
    "print(response[\"message\"][\"content\"])"
   ]
  }
 ],
 "metadata": {
  "kernelspec": {
   "display_name": "venv",
   "language": "python",
   "name": "python3"
  },
  "language_info": {
   "codemirror_mode": {
    "name": "ipython",
    "version": 3
   },
   "file_extension": ".py",
   "mimetype": "text/x-python",
   "name": "python",
   "nbconvert_exporter": "python",
   "pygments_lexer": "ipython3",
   "version": "3.12.3"
  }
 },
 "nbformat": 4,
 "nbformat_minor": 2
}
