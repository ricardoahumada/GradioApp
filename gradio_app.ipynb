{
 "cells": [
  {
   "cell_type": "code",
   "execution_count": null,
   "metadata": {},
   "outputs": [],
   "source": [
    "# !pip install langchain \n",
    "# !pip install gradio \n",
    "# !pip install -U langchain-community"
   ]
  },
  {
   "cell_type": "code",
   "execution_count": null,
   "metadata": {},
   "outputs": [],
   "source": [
    "# !pip install chromadb"
   ]
  },
  {
   "cell_type": "code",
   "execution_count": null,
   "metadata": {},
   "outputs": [],
   "source": [
    "# !pip install pymupdf"
   ]
  },
  {
   "cell_type": "code",
   "execution_count": 4,
   "metadata": {},
   "outputs": [
    {
     "name": "stderr",
     "output_type": "stream",
     "text": [
      "/home/ricardo/workspace/MyLabs/AI/GradioApp/venv/lib/python3.12/site-packages/tqdm/auto.py:21: TqdmWarning: IProgress not found. Please update jupyter and ipywidgets. See https://ipywidgets.readthedocs.io/en/stable/user_install.html\n",
      "  from .autonotebook import tqdm as notebook_tqdm\n"
     ]
    }
   ],
   "source": [
    "import gradio as gr\n",
    "from langchain_community.document_loaders import PyMuPDFLoader\n",
    "from langchain.text_splitter import RecursiveCharacterTextSplitter\n",
    "from langchain.vectorstores import Chroma\n",
    "from langchain_community.embeddings import OllamaEmbeddings\n",
    "\n",
    "import warnings\n",
    "warnings.filterwarnings('ignore')"
   ]
  },
  {
   "cell_type": "code",
   "execution_count": 18,
   "metadata": {},
   "outputs": [],
   "source": [
    "llm_model = \"deepseek-r1:1.5b\"\n",
    "llm_host = \"http://192.168.1.34:11434\""
   ]
  },
  {
   "cell_type": "code",
   "execution_count": 13,
   "metadata": {},
   "outputs": [],
   "source": [
    "def process_pdf(pdf_bytes):\n",
    "    if pdf_bytes is None:\n",
    "        return None, None, None\n",
    "\n",
    "    loader = PyMuPDFLoader(pdf_bytes)\n",
    "    data = loader.load()\n",
    "\n",
    "    text_splitter = RecursiveCharacterTextSplitter(\n",
    "        chunk_size=500, chunk_overlap=100\n",
    "    )\n",
    "    chunks = text_splitter.split_documents(data)\n",
    "\n",
    "    embeddings = OllamaEmbeddings(model=llm_model)\n",
    "    vectorstore = Chroma.from_documents(\n",
    "        documents=chunks, embedding=embeddings, persist_directory=\"./chroma_db\"\n",
    "    )\n",
    "    retriever = vectorstore.as_retriever()\n",
    "\n",
    "    return text_splitter, vectorstore, retriever"
   ]
  },
  {
   "cell_type": "code",
   "execution_count": 14,
   "metadata": {},
   "outputs": [],
   "source": [
    "def combine_docs(docs):\n",
    "    return \"\\n\\n\".join(doc.page_content for doc in docs)"
   ]
  },
  {
   "cell_type": "code",
   "execution_count": 15,
   "metadata": {},
   "outputs": [],
   "source": [
    "import re\n",
    "from ollama import Client\n",
    "\n",
    "\n",
    "def ollama_llm(question, context):\n",
    "    \n",
    "    oclient = Client(\n",
    "        host=llm_host,\n",
    "        headers={'x-some-header': 'some-value'}\n",
    "    )\n",
    "\n",
    "    formatted_prompt = f\"Question: {question}\\n\\nContext: {context}\"\n",
    "\n",
    "    print('*** formatted_prompt_', formatted_prompt)\n",
    "\n",
    "    response = oclient.chat(\n",
    "        model=llm_model,\n",
    "        messages=[{\"role\": \"user\", \"content\": formatted_prompt}],\n",
    "    )\n",
    "\n",
    "    response_content = response[\"message\"][\"content\"]\n",
    "\n",
    "    # Remove content between <think> and </think> tags to remove thinking output\n",
    "    final_answer = re.sub(r\"<think>.*?</think>\", \"\",\n",
    "                          response_content, flags=re.DOTALL).strip()\n",
    "\n",
    "    return final_answer"
   ]
  },
  {
   "cell_type": "code",
   "execution_count": 16,
   "metadata": {},
   "outputs": [],
   "source": [
    "def rag_chain(question, text_splitter, vectorstore, retriever):\n",
    "    retrieved_docs = retriever.invoke(question)\n",
    "    print('*** retrieved_docs:', retrieved_docs)\n",
    "\n",
    "    formatted_content = combine_docs(retrieved_docs)\n",
    "    return ollama_llm(question, formatted_content)"
   ]
  },
  {
   "cell_type": "code",
   "execution_count": 17,
   "metadata": {},
   "outputs": [
    {
     "name": "stdout",
     "output_type": "stream",
     "text": [
      "* Running on local URL:  http://127.0.0.1:7861\n",
      "\n",
      "To create a public link, set `share=True` in `launch()`.\n"
     ]
    },
    {
     "data": {
      "text/html": [
       "<div><iframe src=\"http://127.0.0.1:7861/\" width=\"100%\" height=\"500\" allow=\"autoplay; camera; microphone; clipboard-read; clipboard-write;\" frameborder=\"0\" allowfullscreen></iframe></div>"
      ],
      "text/plain": [
       "<IPython.core.display.HTML object>"
      ]
     },
     "metadata": {},
     "output_type": "display_data"
    },
    {
     "data": {
      "text/plain": []
     },
     "execution_count": 17,
     "metadata": {},
     "output_type": "execute_result"
    }
   ],
   "source": [
    "def ask_question(pdf_bytes, question):\n",
    "    text_splitter, vectorstore, retriever = process_pdf(pdf_bytes)\n",
    "\n",
    "    if text_splitter is None:\n",
    "        return None  # No PDF uploaded\n",
    "    \n",
    "    print('*** text_splitter:', text_splitter)\n",
    "\n",
    "    result = rag_chain(question, text_splitter, vectorstore, retriever)\n",
    "    return {result}\n",
    "\n",
    "\n",
    "interface = gr.Interface(\n",
    "    fn=ask_question,\n",
    "    inputs=[\n",
    "        gr.File(label=\"Upload PDF (optional)\"),\n",
    "        gr.Textbox(label=\"Ask a question\"),\n",
    "    ],\n",
    "    outputs=\"text\",\n",
    "    title=\"Ask questions about your PDF\",\n",
    "    description=\"Use DeepSeek-R1 to answer your questions about the uploaded PDF document.\",\n",
    ")\n",
    "\n",
    "interface.launch()"
   ]
  },
  {
   "cell_type": "code",
   "execution_count": null,
   "metadata": {},
   "outputs": [],
   "source": []
  }
 ],
 "metadata": {
  "kernelspec": {
   "display_name": "venv",
   "language": "python",
   "name": "python3"
  },
  "language_info": {
   "codemirror_mode": {
    "name": "ipython",
    "version": 3
   },
   "file_extension": ".py",
   "mimetype": "text/x-python",
   "name": "python",
   "nbconvert_exporter": "python",
   "pygments_lexer": "ipython3",
   "version": "3.12.3"
  }
 },
 "nbformat": 4,
 "nbformat_minor": 2
}
